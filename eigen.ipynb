{
 "cells": [
  {
   "cell_type": "code",
   "execution_count": 11,
   "metadata": {},
   "outputs": [
    {
     "name": "stdout",
     "output_type": "stream",
     "text": [
      "zsh:1: command not found: python\n"
     ]
    }
   ],
   "source": [
    "# If you have not done so already, install the following dependencies\n",
    "!python -m pip install tensorflow==2.12.0 edgeimpulse"
   ]
  },
  {
   "cell_type": "code",
   "execution_count": 14,
   "metadata": {},
   "outputs": [],
   "source": [
    "from tensorflow import keras\n",
    "import edgeimpulse as ei\n",
    "import tensorflow as tf"
   ]
  },
  {
   "cell_type": "code",
   "execution_count": null,
   "metadata": {},
   "outputs": [],
   "source": []
  },
  {
   "cell_type": "code",
   "execution_count": 16,
   "metadata": {},
   "outputs": [
    {
     "ename": "NameError",
     "evalue": "name 'your_model' is not defined",
     "output_type": "error",
     "traceback": [
      "\u001b[0;31m---------------------------------------------------------------------------\u001b[0m",
      "\u001b[0;31mNameError\u001b[0m                                 Traceback (most recent call last)",
      "Cell \u001b[0;32mIn[16], line 2\u001b[0m\n\u001b[1;32m      1\u001b[0m \u001b[38;5;66;03m# Load the model\u001b[39;00m\n\u001b[0;32m----> 2\u001b[0m loaded_model \u001b[38;5;241m=\u001b[39m tf\u001b[38;5;241m.\u001b[39mkeras\u001b[38;5;241m.\u001b[39mmodels\u001b[38;5;241m.\u001b[39mload_model(\u001b[43myour_model\u001b[49m\u001b[38;5;241m.\u001b[39mh5)\n\u001b[1;32m      4\u001b[0m \u001b[38;5;66;03m# Set model information, such as your list of labels\u001b[39;00m\n\u001b[1;32m      5\u001b[0m model_output_type \u001b[38;5;241m=\u001b[39m ei\u001b[38;5;241m.\u001b[39mmodel\u001b[38;5;241m.\u001b[39moutput_type\u001b[38;5;241m.\u001b[39mClassification(labels\u001b[38;5;241m=\u001b[39mlabels_list)\n",
      "\u001b[0;31mNameError\u001b[0m: name 'your_model' is not defined"
     ]
    }
   ],
   "source": [
    "ei.API_KEY = \"ei_de71dadcd64f64e06980b32bc1b7c4222f102dd6e3cf373f\" \n",
    "\n",
    "# Load the model\n",
    "loaded_model = tf.keras.models.load_model(uploaded_model_path)\n",
    "\n",
    "# Set model information, such as your list of labels\n",
    "model_output_type = ei.model.output_type.Classification(labels=labels_list)\n",
    "\n",
    "# Set model input type\n",
    "model_input_type = ei.model.input_type.OtherInput()\n",
    "\n",
    "\n",
    "# Estimate the RAM, ROM, and inference time for our model on the target hardware family\n",
    "try:\n",
    "    profile = ei.model.profile(model=loaded_model,\n",
    "                               device=deploy_target)\n",
    "    print(profile.summary())\n",
    "except Exception as e:\n",
    "    print(f\"Could not profile: {e}\")\n",
    "\n",
    "# Create C++ library with trained model\n",
    "deploy_bytes = None\n",
    "try:\n",
    "    \n",
    "    deploy_bytes = ei.model.deploy(model=loaded_model,\n",
    "                                   model_output_type=model_output_type,\n",
    "                                   model_input_type=model_input_type,\n",
    "                                   deploy_target=\"arduino\")\n",
    "except Exception as e:\n",
    "    print(f\"Could not deploy: {e}\")\n",
    "    \n",
    "# Write the downloaded raw bytes to a file\n",
    "if deploy_bytes:\n",
    "    with open(deploy_filename, 'wb') as f:\n",
    "        f.write(deploy_bytes.getvalue())"
   ]
  }
 ],
 "metadata": {
  "kernelspec": {
   "display_name": "Python 3",
   "language": "python",
   "name": "python3"
  },
  "language_info": {
   "codemirror_mode": {
    "name": "ipython",
    "version": 3
   },
   "file_extension": ".py",
   "mimetype": "text/x-python",
   "name": "python",
   "nbconvert_exporter": "python",
   "pygments_lexer": "ipython3",
   "version": "3.9.6"
  }
 },
 "nbformat": 4,
 "nbformat_minor": 2
}
